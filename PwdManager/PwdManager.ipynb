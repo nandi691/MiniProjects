{
 "cells": [
  {
   "cell_type": "code",
   "execution_count": 1,
   "id": "53ff7428-e70f-4724-af4a-9649ff8061dd",
   "metadata": {},
   "outputs": [],
   "source": [
    "#password manager\n",
    "# Save password as QR Code in Encrypted format\n"
   ]
  },
  {
   "cell_type": "code",
   "execution_count": 2,
   "id": "8a2807e9-254d-41eb-a6c1-f2a237d3c439",
   "metadata": {},
   "outputs": [],
   "source": [
    "#Before we begin:\n",
    "# Encrypt and Decrypt string in Python with AES 256\n",
    "# Write data to a file saved in Google drive\n",
    "# Convert Text to QR code (Convert text to cipher text and store it in a URL say google drive. Create QR code for Google drive)\n",
    "# Convert QR Code to Text"
   ]
  },
  {
   "cell_type": "code",
   "execution_count": 15,
   "id": "a0a32301-4a4b-4f18-8a5b-7e5aadde3228",
   "metadata": {},
   "outputs": [
    {
     "name": "stdout",
     "output_type": "stream",
     "text": [
      "16\n",
      "b'simple key      simple key      '\n"
     ]
    },
    {
     "name": "stdin",
     "output_type": "stream",
     "text": [
      "Enter a message:  qwerty\n"
     ]
    },
    {
     "name": "stdout",
     "output_type": "stream",
     "text": [
      "b'\\x00\\x00\\xd2\\xed\\xfe\\xfa\\x8e\\x86\\x98\\xdbD\\xbbv\\xcf#M' b'\"\\xfc\\x99\\x0f\\xc7\\x7ffH\\x16\\rbD@\\nm\\x0e'\n",
      "Cipher text: b'\\xcbg\\xc0F\\xe8\\x9e'\n",
      "Plain text: qwerty\n"
     ]
    }
   ],
   "source": [
    "from Crypto.Cipher import AES\n",
    "from secrets import token_bytes\n",
    "\n",
    "key = 'simple key      '.encode('ascii')\n",
    "print(len(key))\n",
    "key = key + key\n",
    "print(key)\n",
    "\n",
    "def encrypt(msg):\n",
    "    cipher = AES.new(key, AES.MODE_EAX)\n",
    "    nonce = cipher.nonce\n",
    "    ciphertext, tag = cipher.encrypt_and_digest(msg.encode('ascii'))\n",
    "    print(nonce,tag)\n",
    "    return nonce, ciphertext, tag\n",
    "\n",
    "def decrypt(nonce, ciphertext, tag):\n",
    "    cipher = AES.new(key, AES.MODE_EAX, nonce=nonce)\n",
    "    plaintext = cipher.decrypt(ciphertext)\n",
    "    try:\n",
    "        cipher.verify(tag)\n",
    "        return plaintext.decode('ascii')\n",
    "    except:\n",
    "        return False\n",
    "\n",
    "nonce, ciphertext, tag = encrypt(input('Enter a message: '))\n",
    "plaintext = decrypt(nonce, ciphertext, tag)\n",
    "print(f'Cipher text: {ciphertext}')\n",
    "if not plaintext:\n",
    "    print('Message is corrupted')\n",
    "else:\n",
    "    print(f'Plain text: {plaintext}')"
   ]
  },
  {
   "cell_type": "code",
   "execution_count": null,
   "id": "d2ced8db-9ad7-46d8-bae2-f8e87fa21eb3",
   "metadata": {},
   "outputs": [],
   "source": []
  }
 ],
 "metadata": {
  "kernelspec": {
   "display_name": "Python 3 (ipykernel)",
   "language": "python",
   "name": "python3"
  },
  "language_info": {
   "codemirror_mode": {
    "name": "ipython",
    "version": 3
   },
   "file_extension": ".py",
   "mimetype": "text/x-python",
   "name": "python",
   "nbconvert_exporter": "python",
   "pygments_lexer": "ipython3",
   "version": "3.9.18"
  }
 },
 "nbformat": 4,
 "nbformat_minor": 5
}
